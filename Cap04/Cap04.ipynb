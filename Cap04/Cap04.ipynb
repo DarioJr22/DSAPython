{
 "cells": [
  {
   "cell_type": "code",
   "execution_count": null,
   "id": "1cc69806",
   "metadata": {},
   "outputs": [],
   "source": []
  },
  {
   "cell_type": "markdown",
   "id": "5661bdb1",
   "metadata": {},
   "source": [
    "#### Type (Tipos de variaveis"
   ]
  },
  {
   "cell_type": "code",
   "execution_count": 8,
   "id": "2922ad16",
   "metadata": {},
   "outputs": [
    {
     "name": "stdout",
     "output_type": "stream",
     "text": [
      "<class 'str'>\n",
      "2\n",
      "<class 'str'>\n",
      "2\n",
      "<class 'str'>\n",
      "2\n",
      "<class 'str'>\n",
      "2\n",
      "<class 'str'>\n",
      "2\n",
      "<class 'str'>\n",
      "2\n",
      "<class 'str'>\n",
      "2\n",
      "<class 'str'>\n",
      "2\n",
      "<class 'str'>\n",
      "2\n"
     ]
    }
   ],
   "source": [
    "a = 'Blablabla'\n",
    "n = [2,3,[4],4,3]\n",
    "for i in a:\n",
    "    print(type(i))\n",
    "    print(n[i.index(i)])\n",
    "    \n",
    "\n",
    "    "
   ]
  },
  {
   "cell_type": "markdown",
   "id": "06b1532f",
   "metadata": {},
   "source": [
    "## Conversão"
   ]
  },
  {
   "cell_type": "code",
   "execution_count": 2,
   "id": "1816f114",
   "metadata": {},
   "outputs": [
    {
     "data": {
      "text/plain": [
       "9.0"
      ]
     },
     "execution_count": 2,
     "metadata": {},
     "output_type": "execute_result"
    }
   ],
   "source": [
    "float(9)"
   ]
  },
  {
   "cell_type": "code",
   "execution_count": 3,
   "id": "d44c6167",
   "metadata": {},
   "outputs": [
    {
     "data": {
      "text/plain": [
       "6"
      ]
     },
     "execution_count": 3,
     "metadata": {},
     "output_type": "execute_result"
    }
   ],
   "source": [
    "int(6.7)"
   ]
  },
  {
   "cell_type": "code",
   "execution_count": null,
   "id": "de8a1a43",
   "metadata": {},
   "outputs": [],
   "source": []
  }
 ],
 "metadata": {
  "kernelspec": {
   "display_name": "Python 3 (ipykernel)",
   "language": "python",
   "name": "python3"
  },
  "language_info": {
   "codemirror_mode": {
    "name": "ipython",
    "version": 3
   },
   "file_extension": ".py",
   "mimetype": "text/x-python",
   "name": "python",
   "nbconvert_exporter": "python",
   "pygments_lexer": "ipython3",
   "version": "3.9.13"
  }
 },
 "nbformat": 4,
 "nbformat_minor": 5
}
